{
 "cells": [
  {
   "cell_type": "code",
   "execution_count": 1,
   "metadata": {
    "collapsed": false
   },
   "outputs": [],
   "source": [
    "import os\n",
    "import z_function_list"
   ]
  },
  {
   "cell_type": "code",
   "execution_count": 2,
   "metadata": {
    "collapsed": true
   },
   "outputs": [],
   "source": [
    "base_path,data,outputs = z_function_list.folder_setup()"
   ]
  },
  {
   "cell_type": "code",
   "execution_count": 3,
   "metadata": {
    "collapsed": true
   },
   "outputs": [],
   "source": [
    "os.chdir(data)"
   ]
  },
  {
   "cell_type": "code",
   "execution_count": 13,
   "metadata": {
    "collapsed": false
   },
   "outputs": [],
   "source": [
    "adu = pd.ExcelFile('ADU_raw_list_zip_codes_2.xlsx')\n",
    "sheet_names = adu.sheet_names\n",
    "\n",
    "adu_df_dic = {item:pd.read_excel('ADU_raw_list_zip_codes_2.xlsx',skiprows=4,sheetname=item) for item in sheet_names}\n",
    "adu_df_dic[\"Applications Submitted\"] = adu_df_dic[\"Applications Submitted\"][adu_df_dic[\"Applications Submitted\"].columns.values[0:13]]"
   ]
  },
  {
   "cell_type": "code",
   "execution_count": 42,
   "metadata": {
    "collapsed": false
   },
   "outputs": [],
   "source": [
    "combined_sheet = pd.concat(adu_df_dic)\n",
    "add_count = pd.DataFrame(combined_sheet.groupby('JOB ADDRESS').count()['STATUS DESCRIPTION'])\n",
    "combined_sheet = combined_sheet.merge(add_count,left_on='JOB ADDRESS',right_index=True,how='left',suffixes=('','_'))\n",
    "combined_sheet.rename(columns={'STATUS DESCRIPTION_':'ADDRESS COUNT'},inplace=True)\n",
    "combined_sheet = combined_sheet.sort_values(by=['ADDRESS COUNT','JOB ADDRESS','PC SUBMT DATE'],ascending=True)\n",
    "combined_sheet.drop_duplicates(subset='PERMIT NUMBER',inplace=True)\n",
    "combined_sheet['ISSUE YEAR']= combined_sheet['ISSUE DATE'].dt.year\n",
    "combined_sheet['PC YEAR'] =combined_sheet['PC SUBMT DATE'].dt.year\n",
    "combined_sheet=combined_sheet.reset_index().drop(['level_1'],axis=1).rename(columns={'level_0':'Overall Status'})"
   ]
  },
  {
   "cell_type": "code",
   "execution_count": 59,
   "metadata": {
    "collapsed": false
   },
   "outputs": [],
   "source": [
    "os.chdir(outputs)\n",
    "combined_sheet.to_csv('ADU_permits_since_2003_combined_sheet_2.csv')"
   ]
  },
  {
   "cell_type": "code",
   "execution_count": null,
   "metadata": {
    "collapsed": true
   },
   "outputs": [],
   "source": [
    "#sorting - need to sort by count (low to high),address,issue date oldest to newst, app date newest to olderst"
   ]
  }
 ],
 "metadata": {
  "kernelspec": {
   "display_name": "Python 3",
   "language": "python",
   "name": "python3"
  },
  "language_info": {
   "codemirror_mode": {
    "name": "ipython",
    "version": 3
   },
   "file_extension": ".py",
   "mimetype": "text/x-python",
   "name": "python",
   "nbconvert_exporter": "python",
   "pygments_lexer": "ipython3",
   "version": "3.6.0"
  }
 },
 "nbformat": 4,
 "nbformat_minor": 2
}
