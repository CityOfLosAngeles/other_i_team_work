{
 "cells": [
  {
   "cell_type": "code",
   "execution_count": 2,
   "metadata": {
    "collapsed": false
   },
   "outputs": [],
   "source": [
    "import os\n",
    "import z_function_list"
   ]
  },
  {
   "cell_type": "code",
   "execution_count": 3,
   "metadata": {
    "collapsed": true
   },
   "outputs": [],
   "source": [
    "base_path,data,outputs = z_function_list.folder_setup()"
   ]
  },
  {
   "cell_type": "code",
   "execution_count": 4,
   "metadata": {
    "collapsed": true
   },
   "outputs": [],
   "source": [
    "os.chdir(data)"
   ]
  },
  {
   "cell_type": "code",
   "execution_count": 13,
   "metadata": {
    "collapsed": false
   },
   "outputs": [],
   "source": [
    "adu = pd.ExcelFile('ADU_raw_list_zip_codes.xlsx')\n",
    "sheet_names = adu.sheet_names\n",
    "\n",
    "adu_df_dic = {item:pd.read_excel('ADU_raw_list_zip_codes.xlsx',skiprows=4,sheetname=item) for item in sheet_names}\n"
   ]
  },
  {
   "cell_type": "code",
   "execution_count": 32,
   "metadata": {
    "collapsed": false
   },
   "outputs": [],
   "source": [
    "adu_df_dic['Applications Submitted'].rename(columns={'PERMIT \\nSUB-TYPE':'PERMIT\\nSUB-TYPE'},inplace=True)"
   ]
  },
  {
   "cell_type": "code",
   "execution_count": 38,
   "metadata": {
    "collapsed": false,
    "scrolled": false
   },
   "outputs": [],
   "source": [
    "combined_sheet = pd.concat(adu_df_dic).drop(['Unnamed: 12','Unnamed: 13'],axis=1)\n",
    "combined_sheet.drop_duplicates(subset='PERMIT NUMBER',inplace=True)\n",
    "add_count = pd.DataFrame(combined_sheet.groupby('JOB ADDRESS').count()[' PERMIT STATUS'])\n",
    "combined_sheet = combined_sheet.merge(add_count,left_on='JOB ADDRESS',right_index=True,how='left',suffixes=('','_'))\n",
    "combined_sheet.rename(columns={' PERMIT STATUS_':'ADDRESS COUNT',' PERMIT STATUS_':'PERMIT STATUS'},inplace=True)"
   ]
  },
  {
   "cell_type": "code",
   "execution_count": null,
   "metadata": {
    "collapsed": true
   },
   "outputs": [],
   "source": []
  },
  {
   "cell_type": "code",
   "execution_count": null,
   "metadata": {
    "collapsed": true
   },
   "outputs": [],
   "source": []
  }
 ],
 "metadata": {
  "kernelspec": {
   "display_name": "Python 3",
   "language": "python",
   "name": "python3"
  },
  "language_info": {
   "codemirror_mode": {
    "name": "ipython",
    "version": 3
   },
   "file_extension": ".py",
   "mimetype": "text/x-python",
   "name": "python",
   "nbconvert_exporter": "python",
   "pygments_lexer": "ipython3",
   "version": "3.6.0"
  }
 },
 "nbformat": 4,
 "nbformat_minor": 2
}
