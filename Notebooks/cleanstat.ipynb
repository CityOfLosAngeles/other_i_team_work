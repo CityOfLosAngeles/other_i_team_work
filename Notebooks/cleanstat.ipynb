{
 "cells": [
  {
   "cell_type": "code",
   "execution_count": 219,
   "metadata": {
    "collapsed": true
   },
   "outputs": [],
   "source": [
    "import os\n",
    "import z_function_list\n",
    "from functools import reduce"
   ]
  },
  {
   "cell_type": "code",
   "execution_count": 220,
   "metadata": {
    "collapsed": true
   },
   "outputs": [],
   "source": [
    "base_path,data,outputs = z_function_list.folder_setup()"
   ]
  },
  {
   "cell_type": "code",
   "execution_count": 222,
   "metadata": {
    "collapsed": true
   },
   "outputs": [],
   "source": [
    "os.chdir(data)"
   ]
  },
  {
   "cell_type": "code",
   "execution_count": 235,
   "metadata": {
    "collapsed": false
   },
   "outputs": [],
   "source": [
    "#pull in excel file\n",
    "cleanstat = pd.ExcelFile('clean_comparison.xlsx')\n",
    "#create dictionary of frames for each sheet\n",
    "d = {n:cleanstat.parse(n) for n in cleanstat.sheet_names}\n",
    "#merge into single DF\n",
    "combined_quarters = reduce(lambda x,y: pd.merge(x,y,on='SegmentID'),[d[sheet] for sheet in cleanstat.sheet_names])\n",
    "\n",
    "#replace columns names to make more specific\n",
    "combined_quarters.columns = combined_quarters.columns.str.replace('_x','_Q1_2016').str.replace('_y','_Q4_2016')\n",
    "column_replacement = {n:k for n,k in zip(combined_quarters.columns[-5:],[x+'_Q4_2017' for x  in combined_quarters.columns[-5:]])}\n",
    "combined_quarters = combined_quarters.rename(columns=column_replacement)\n",
    "\n",
    "#add in missing CD\n",
    "\n",
    "missing_cd_map = {k:v for k,v in pd.read_csv('clean_stat_missing_CD.csv')[['SegmentID','District']].values}"
   ]
  },
  {
   "cell_type": "code",
   "execution_count": 236,
   "metadata": {
    "collapsed": false
   },
   "outputs": [],
   "source": [
    "combined_quarters = combined_quarters.drop(['FullName_Q1_2016', 'LAPD_Grid_Q1_2016','CD_Q1_2016',\n",
    "                                            'GlobalID_Q1_2016','GlobalID_Q4_2016','Miles_Q1_2016',\n",
    "                                            'Miles_Q4_2017','FullName_Q4_2016','LAPD_Grid_Q4_2016',\n",
    "                                           'OBJECTID_1_Q1_2016', 'OBJECTID_1_Q4_2016',\n",
    "                                            'OBJECTID_1_Q4_2017'],axis=1)\n",
    "\n",
    "combined_quarters = combined_quarters.rename(columns={'Miles_Q4_2016':'Miles',\n",
    "                                                      'LAPD_Grid_Q4_2017':'LAPD_Grid',\n",
    "                                                     'CD_Q4_2016':'CD',\n",
    "                                                     'FullName_Q4_2017':'FullName'})\n",
    "\n",
    "combined_quarters = combined_quarters[['FullName','SegmentID','CD','CS_RoundSc_Q1_2016','CS_RoundSc_Q4_2016',\n",
    "                   'CS_RoundSc_Q4_2017','Miles','SanDist','LAPD_Grid']]\n",
    "\n",
    "\n",
    "#updating missing CDs\n",
    "combined_quarters['Updated CD']=combined_quarters['CD']\n",
    "combined_quarters.loc[combined_quarters['CD']==0,'Updated CD'] = combined_quarters.loc[combined_quarters['CD']==0,'SegmentID'].map(missing_cd_map)\n"
   ]
  },
  {
   "cell_type": "code",
   "execution_count": 237,
   "metadata": {
    "collapsed": true
   },
   "outputs": [],
   "source": [
    "\n",
    "#earlier version to verify true mileage differences\n",
    "#combined_quarters[['Miles_Q1_2016','Miles_Q4_2016','Miles_Q4_2017']] = combined_quarters[['Miles_Q1_2016','Miles_Q4_2016','Miles_Q4_2017']].round(decimals=5)\n",
    "\n",
    "street_mapping = {1:'Clean',2:'Somewhat Clean',3:'Not Clean',0:'Not Evaluated'}\n",
    "\n",
    "combined_quarters['Cat_Q1_2016'],combined_quarters['Cat_Q4_2016'],combined_quarters['Cat_Q4_2017']=\\\n",
    "combined_quarters['CS_RoundSc_Q1_2016'].map(street_mapping),\\\n",
    "combined_quarters['CS_RoundSc_Q4_2016'].map(street_mapping),\\\n",
    "combined_quarters['CS_RoundSc_Q4_2017'].map(street_mapping)"
   ]
  },
  {
   "cell_type": "code",
   "execution_count": 365,
   "metadata": {
    "collapsed": false
   },
   "outputs": [],
   "source": [
    "q1_2016_ = combined_quarters.pivot_table('Miles',columns='Cat_Q1_2016',index='CD',aggfunc='sum')[['Clean', 'Somewhat Clean', 'Not Clean', 'Not Evaluated']]\n",
    "q4_2016_ = combined_quarters.pivot_table('Miles',columns='Cat_Q4_2016',index='CD',aggfunc='sum')[['Clean','Somewhat Clean','Not Clean']]\n",
    "q4_2017_ = combined_quarters.pivot_table('Miles',columns='Cat_Q4_2017',index='CD',aggfunc='sum')[['Clean','Somewhat Clean','Not Clean']]\n",
    "\n",
    "q1_2016 = combined_quarters.pivot_table('Miles',columns='Cat_Q1_2016',index='Updated CD',aggfunc='sum')[['Clean', 'Somewhat Clean', 'Not Clean', 'Not Evaluated']]\n",
    "q4_2016 = combined_quarters.pivot_table('Miles',columns='Cat_Q4_2016',index='Updated CD',aggfunc='sum')[['Clean','Somewhat Clean','Not Clean']]\n",
    "q4_2017 = combined_quarters.pivot_table('Miles',columns='Cat_Q4_2017',index='Updated CD',aggfunc='sum')[['Clean','Somewhat Clean','Not Clean']]"
   ]
  },
  {
   "cell_type": "code",
   "execution_count": 366,
   "metadata": {
    "collapsed": false
   },
   "outputs": [],
   "source": [
    "q1_2016_SouthLA = q1_2016.loc[[8,9,10]]\n",
    "q1_2016_SouthLA_ = q1_2016_.loc[[8,9,10]]\n",
    "\n",
    "q4_2016_SouthLA = q4_2016.loc[[8,9,10]]\n",
    "q4_2016_SouthLA_ = q4_2016_.loc[[8,9,10]]\n",
    "\n",
    "q4_2017_SouthLA = q4_2017.loc[[8,9,10]]\n",
    "q4_2017_SouthLA_ = q4_2017_.loc[[8,9,10]]"
   ]
  },
  {
   "cell_type": "code",
   "execution_count": 387,
   "metadata": {
    "collapsed": false
   },
   "outputs": [],
   "source": [
    "## ALL LA\n",
    "\n",
    "all_recoded = reduce(lambda x,y: pd.merge(x,y,left_index=True,right_index=True),\n",
    "                            [q1_2016,q4_2016,q4_2017]).T\n",
    "\n",
    "all_no_0 = reduce(lambda x,y: pd.merge(x,y,left_index=True,right_index=True),\n",
    "                            [q1_2016_,q4_2016_,q4_2017_]).T\n",
    "\n",
    "#need to remove the 0 districts!\n",
    "all_no_0 = all_no_0.drop(0,axis=1)\n",
    "\n",
    "#create new index\n",
    "\n",
    "updated_index = [x.replace('_y','_Q4_2016') for x in [x.replace('_x','_Q1_2016') for x in all_recoded.index]]\n",
    "updated_index[3] = 'Not_Evaluated_Q1_2016'\n",
    "updated_index[-3:]=[x+'_Q4_2017' for x in updated_index[-3:]]\n",
    "\n",
    "\n",
    "## SOUTH LA\n",
    "\n",
    "#recoded districts\n",
    "south_LA_recoded = reduce(lambda x,y: pd.merge(x,y,left_index=True,right_index=True),\n",
    "                            [q1_2016_SouthLA,q4_2016_SouthLA,q4_2017_SouthLA]).T\n",
    "\n",
    "#original districts, subtracting \"0\" districts\n",
    "south_LA_no_0 = reduce(lambda x,y: pd.merge(x,y,left_index=True,right_index=True),\n",
    "                            [q1_2016_SouthLA_,q4_2016_SouthLA_,q4_2017_SouthLA_]).T\n",
    "\n",
    "\n",
    "all_recoded.index,all_no_0.index, south_LA_no_0.index, south_LA_recoded.index = [updated_index]*4\n",
    "\n"
   ]
  },
  {
   "cell_type": "code",
   "execution_count": 302,
   "metadata": {
    "collapsed": false
   },
   "outputs": [],
   "source": [
    "def percent_changes(df,starting,ending):\n",
    "    raw = (df.sum(axis=1).loc[ending]-df.sum(axis=1).loc[starting])/(df.sum(axis=1).loc[starting])\n",
    "    return(format(raw*100,'.1f')+'% change')"
   ]
  },
  {
   "cell_type": "code",
   "execution_count": 378,
   "metadata": {
    "collapsed": false
   },
   "outputs": [
    {
     "data": {
      "text/plain": [
       "'110.7% change'"
      ]
     },
     "execution_count": 378,
     "metadata": {},
     "output_type": "execute_result"
    }
   ],
   "source": [
    "percent_changes(south_LA_no_0,ending='Clean_Q4_2017',starting='Clean_Q1_2016')"
   ]
  },
  {
   "cell_type": "code",
   "execution_count": 379,
   "metadata": {
    "collapsed": false
   },
   "outputs": [
    {
     "data": {
      "text/plain": [
       "'119.9% change'"
      ]
     },
     "execution_count": 379,
     "metadata": {},
     "output_type": "execute_result"
    }
   ],
   "source": [
    "percent_changes(south_LA_recoded,ending='Clean_Q4_2017',starting='Clean_Q1_2016')"
   ]
  },
  {
   "cell_type": "code",
   "execution_count": 388,
   "metadata": {
    "collapsed": false
   },
   "outputs": [
    {
     "data": {
      "text/plain": [
       "'54.4% change'"
      ]
     },
     "execution_count": 388,
     "metadata": {},
     "output_type": "execute_result"
    }
   ],
   "source": [
    "percent_changes(all_no_0,ending='Clean_Q4_2017',starting='Clean_Q1_2016')"
   ]
  },
  {
   "cell_type": "code",
   "execution_count": 389,
   "metadata": {
    "collapsed": false
   },
   "outputs": [
    {
     "data": {
      "text/plain": [
       "'69.6% change'"
      ]
     },
     "execution_count": 389,
     "metadata": {},
     "output_type": "execute_result"
    }
   ],
   "source": [
    "percent_changes(all_recoded,ending='Clean_Q4_2017',starting='Clean_Q1_2016')"
   ]
  },
  {
   "cell_type": "code",
   "execution_count": 216,
   "metadata": {
    "collapsed": false
   },
   "outputs": [],
   "source": [
    "os.chdir(outputs)\n",
    "combined_quarters.to_csv('cleanstat_Q1Q42016_Q42017.csv')"
   ]
  }
 ],
 "metadata": {
  "kernelspec": {
   "display_name": "Python 3",
   "language": "python",
   "name": "python3"
  },
  "language_info": {
   "codemirror_mode": {
    "name": "ipython",
    "version": 3
   },
   "file_extension": ".py",
   "mimetype": "text/x-python",
   "name": "python",
   "nbconvert_exporter": "python",
   "pygments_lexer": "ipython3",
   "version": "3.6.0"
  }
 },
 "nbformat": 4,
 "nbformat_minor": 2
}
