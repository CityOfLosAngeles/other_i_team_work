{
 "cells": [
  {
   "cell_type": "code",
   "execution_count": 1,
   "metadata": {},
   "outputs": [],
   "source": [
    "import os\n",
    "import z_function_list\n",
    "from functools import reduce"
   ]
  },
  {
   "cell_type": "code",
   "execution_count": 2,
   "metadata": {},
   "outputs": [],
   "source": [
    "base_path,data,outputs = z_function_list.folder_setup()"
   ]
  },
  {
   "cell_type": "code",
   "execution_count": 3,
   "metadata": {},
   "outputs": [],
   "source": [
    "os.chdir(data)"
   ]
  },
  {
   "cell_type": "code",
   "execution_count": 215,
   "metadata": {},
   "outputs": [],
   "source": [
    "#pull in excel file\n",
    "cleanstat = pd.ExcelFile('clean_comparison.xlsx')\n",
    "#create dictionary of frames for each sheet\n",
    "d = {n:cleanstat.parse(n) for n in cleanstat.sheet_names}\n",
    "#merge into single DF\n",
    "\n",
    "for item in list(d.keys()):\n",
    "    cols = list(d[item].columns)\n",
    "    cols = [x+\"_\"+item if x!='SegmentID' else 'SegmentID' for x in cols]\n",
    "    d[item].columns = cols\n",
    "    \n",
    "#combine into single df\n",
    "combined_quarters = reduce(lambda x,y: pd.merge(x,y,on='SegmentID'),[d[sheet] for sheet in cleanstat.sheet_names])\n",
    "\n",
    "#don't think I actually need this anymore\n",
    "#missing_cd_map = {k:v for k,v in pd.read_csv('clean_stat_missing_CD.csv')[['SegmentID','District']].values}\n",
    "\n",
    "#create new universal columns\n",
    "combined_quarters['Miles']=combined_quarters['Miles_Q1_2016']\n",
    "combined_quarters['CD']=combined_quarters['CD_Q1_2018']\n",
    "combined_quarters['FullName']=combined_quarters['FullName_Q4_2017']\n",
    "\n",
    "#ID fields that contain score\n",
    "scores = list(filter(lambda x: 'CS_RoundSc' in x,list(combined_quarters.columns)))\n",
    "\n",
    "combined_quarters_simple_columns = combined_quarters[['CD','Miles','SegmentID']+scores].copy()\n",
    "\n"
   ]
  },
  {
   "cell_type": "code",
   "execution_count": 244,
   "metadata": {},
   "outputs": [],
   "source": [
    "duplicate_segment_ID = list(combined_quarters['SegmentID'].value_counts()[combined_quarters['SegmentID'].value_counts()>1].index)"
   ]
  },
  {
   "cell_type": "code",
   "execution_count": 222,
   "metadata": {},
   "outputs": [],
   "source": [
    "os.chdir(data)\n",
    "latest_quarter = 'Q1_2018'\n",
    "combined_quarters_simple_columns.to_csv('Streets_Index'+'_'+'Q1_2016_to'+latest_quarter)"
   ]
  },
  {
   "cell_type": "code",
   "execution_count": 223,
   "metadata": {},
   "outputs": [],
   "source": [
    "def pivot_maker(score_field):\n",
    "    pivot = combined_quarters_simple_columns.pivot_table('Miles',index=score_field,\n",
    "                                                        columns='CD',aggfunc='sum')\n",
    "    pivot['All'] = pivot.sum(axis=1)\n",
    "    pivot['South LA'] = pivot[[8,9,10]].sum(axis=1)\n",
    "    pivot['East LA'] = pivot[[1,14]].sum(axis=1)\n",
    "    pivot['Southeast Valley']=pivot[2]\n",
    "    pivot['Northeast Valley'] = pivot[[6,7]].sum(axis=1)\n",
    "    pivot['West Valley'] = pivot[[3,12]].sum(axis=1)\n",
    "    pivot['Hollywood/South Valley']= pivot[4]\n",
    "    pivot['Westside']= pivot[[5,11]].sum(axis=1)\n",
    "    pivot['Harbor'] = pivot[15]\n",
    "    pivot['Silver Lake/Echo Park/Hollywood'] = pivot[13]\n",
    "    pivot = pivot[['All','South LA','East LA','Southeast Valley','West Valley','Northeast Valley',\n",
    "                 'Hollywood/South Valley','Westside','Harbor','Silver Lake/Echo Park/Hollywood']].T\n",
    "    return pivot.rename(columns={0:'Not Evalauted',1:'Clean',2:'Somewhat Clean',3:'Not Clean'})"
   ]
  },
  {
   "cell_type": "code",
   "execution_count": 224,
   "metadata": {},
   "outputs": [],
   "source": [
    "summary_dict = {x:pivot_maker(x) for x in scores}"
   ]
  },
  {
   "cell_type": "code",
   "execution_count": 255,
   "metadata": {},
   "outputs": [
    {
     "data": {
      "text/plain": [
       "CS_RoundSc_Q1_2018\n",
       "Clean             1007.937634\n",
       "Somewhat Clean      26.597664\n",
       "Not Clean            6.850514\n",
       "Name: Northeast Valley, dtype: float64"
      ]
     },
     "execution_count": 255,
     "metadata": {},
     "output_type": "execute_result"
    }
   ],
   "source": [
    "np.round(summary_dict['CS_RoundSc_Q1_2018'].loc['Northeast Valley'],8)"
   ]
  },
  {
   "cell_type": "code",
   "execution_count": 213,
   "metadata": {},
   "outputs": [
    {
     "data": {
      "text/plain": [
       "2047     1\n",
       "3467     1\n",
       "7561     1\n",
       "28039    1\n",
       "25990    1\n",
       "32133    1\n",
       "30084    1\n",
       "19843    1\n",
       "17794    1\n",
       "23937    1\n",
       "21888    1\n",
       "42366    1\n",
       "46460    1\n",
       "36219    1\n",
       "34170    1\n",
       "40313    1\n",
       "38264    1\n",
       "11631    1\n",
       "9582     1\n",
       "1418     1\n",
       "13708    1\n",
       "7593     1\n",
       "15757    1\n",
       "28071    1\n",
       "26022    1\n",
       "32165    1\n",
       "30116    1\n",
       "19875    1\n",
       "17826    1\n",
       "23969    1\n",
       "21920    1\n",
       "44447    1\n",
       "42398    1\n",
       "46492    1\n",
       "36251    1\n",
       "34202    1\n",
       "40345    1\n",
       "38296    1\n",
       "11663    1\n",
       "9614     1\n",
       "15725    1\n",
       "13676    1\n",
       "3435     1\n",
       "7529     1\n",
       "1354     1\n",
       "7497     1\n",
       "5448     1\n",
       "27975    1\n",
       "25926    1\n",
       "32069    1\n",
       "        ..\n",
       "41697    1\n",
       "8945     1\n",
       "10992    1\n",
       "37607    1\n",
       "39654    1\n",
       "33509    1\n",
       "35556    1\n",
       "45795    1\n",
       "17085    1\n",
       "29371    1\n",
       "43648    1\n",
       "31418    1\n",
       "29339    1\n",
       "31386    1\n",
       "25241    1\n",
       "27288    1\n",
       "4759     1\n",
       "6806     1\n",
       "2708     1\n",
       "12947    1\n",
       "14994    1\n",
       "8849     1\n",
       "10896    1\n",
       "37511    1\n",
       "39558    1\n",
       "33413    1\n",
       "35460    1\n",
       "45699    1\n",
       "41601    1\n",
       "19100    1\n",
       "17053    1\n",
       "23198    1\n",
       "8881     1\n",
       "25273    1\n",
       "27320    1\n",
       "4791     1\n",
       "6838     1\n",
       "2740     1\n",
       "12979    1\n",
       "15026    1\n",
       "10928    1\n",
       "21151    1\n",
       "37543    1\n",
       "39590    1\n",
       "33445    1\n",
       "35492    1\n",
       "45731    1\n",
       "41633    1\n",
       "43680    1\n",
       "2049     1\n",
       "Name: SegmentID, Length: 42489, dtype: int64"
      ]
     },
     "execution_count": 213,
     "metadata": {},
     "output_type": "execute_result"
    }
   ],
   "source": [
    "d[\"Q1_2016\"]['SegmentID'].value_counts()"
   ]
  },
  {
   "cell_type": "code",
   "execution_count": null,
   "metadata": {},
   "outputs": [],
   "source": [
    "#### q1_2016_ = combined_quarters.pivot_table('Miles',columns='Cat_Q1_2016',index='CD',aggfunc='sum')[['Clean', 'Somewhat Clean', 'Not Clean', 'Not Evaluated']]\n",
    "q4_2016_ = combined_quarters.pivot_table('Miles',columns='Cat_Q4_2016',index='CD',aggfunc='sum')[['Clean','Somewhat Clean','Not Clean']]\n",
    "q4_2017_ = combined_quarters.pivot_table('Miles',columns='Cat_Q4_2017',index='CD',aggfunc='sum')[['Clean','Somewhat Clean','Not Clean']]\n",
    "\n",
    "q1_2016 = combined_quarters.pivot_table('Miles',columns='Cat_Q1_2016',index='Updated CD',aggfunc='sum')[['Clean', 'Somewhat Clean', 'Not Clean', 'Not Evaluated']]\n",
    "q4_2016 = combined_quarters.pivot_table('Miles',columns='Cat_Q4_2016',index='Updated CD',aggfunc='sum')[['Clean','Somewhat Clean','Not Clean']]\n",
    "q4_2017 = combined_quarters.pivot_table('Miles',columns='Cat_Q4_2017',index='Updated CD',aggfunc='sum')[['Clean','Somewhat Clean','Not Clean']]"
   ]
  },
  {
   "cell_type": "code",
   "execution_count": 366,
   "metadata": {},
   "outputs": [],
   "source": [
    "q1_2016_SouthLA = q1_2016.loc[[8,9,10]]\n",
    "q1_2016_SouthLA_ = q1_2016_.loc[[8,9,10]]\n",
    "\n",
    "q4_2016_SouthLA = q4_2016.loc[[8,9,10]]\n",
    "q4_2016_SouthLA_ = q4_2016_.loc[[8,9,10]]\n",
    "\n",
    "q4_2017_SouthLA = q4_2017.loc[[8,9,10]]\n",
    "q4_2017_SouthLA_ = q4_2017_.loc[[8,9,10]]"
   ]
  },
  {
   "cell_type": "code",
   "execution_count": 387,
   "metadata": {},
   "outputs": [],
   "source": [
    "## ALL LA\n",
    "\n",
    "all_recoded = reduce(lambda x,y: pd.merge(x,y,left_index=True,right_index=True),\n",
    "                            [q1_2016,q4_2016,q4_2017]).T\n",
    "\n",
    "all_no_0 = reduce(lambda x,y: pd.merge(x,y,left_index=True,right_index=True),\n",
    "                            [q1_2016_,q4_2016_,q4_2017_]).T\n",
    "\n",
    "#need to remove the 0 districts!\n",
    "all_no_0 = all_no_0.drop(0,axis=1)\n",
    "\n",
    "#create new index\n",
    "\n",
    "updated_index = [x.replace('_y','_Q4_2016') for x in [x.replace('_x','_Q1_2016') for x in all_recoded.index]]\n",
    "updated_index[3] = 'Not_Evaluated_Q1_2016'\n",
    "updated_index[-3:]=[x+'_Q4_2017' for x in updated_index[-3:]]\n",
    "\n",
    "\n",
    "## SOUTH LA\n",
    "\n",
    "#recoded districts\n",
    "south_LA_recoded = reduce(lambda x,y: pd.merge(x,y,left_index=True,right_index=True),\n",
    "                            [q1_2016_SouthLA,q4_2016_SouthLA,q4_2017_SouthLA]).T\n",
    "\n",
    "#original districts, subtracting \"0\" districts\n",
    "south_LA_no_0 = reduce(lambda x,y: pd.merge(x,y,left_index=True,right_index=True),\n",
    "                            [q1_2016_SouthLA_,q4_2016_SouthLA_,q4_2017_SouthLA_]).T\n",
    "\n",
    "\n",
    "all_recoded.index,all_no_0.index, south_LA_no_0.index, south_LA_recoded.index = [updated_index]*4\n",
    "\n"
   ]
  },
  {
   "cell_type": "code",
   "execution_count": 302,
   "metadata": {},
   "outputs": [],
   "source": [
    "def percent_changes(df,starting,ending):\n",
    "    raw = (df.sum(axis=1).loc[ending]-df.sum(axis=1).loc[starting])/(df.sum(axis=1).loc[starting])\n",
    "    return(format(raw*100,'.1f')+'% change')"
   ]
  },
  {
   "cell_type": "code",
   "execution_count": 378,
   "metadata": {},
   "outputs": [
    {
     "data": {
      "text/plain": [
       "'110.7% change'"
      ]
     },
     "execution_count": 378,
     "metadata": {},
     "output_type": "execute_result"
    }
   ],
   "source": [
    "percent_changes(south_LA_no_0,ending='Clean_Q4_2017',starting='Clean_Q1_2016')"
   ]
  },
  {
   "cell_type": "code",
   "execution_count": 379,
   "metadata": {},
   "outputs": [
    {
     "data": {
      "text/plain": [
       "'119.9% change'"
      ]
     },
     "execution_count": 379,
     "metadata": {},
     "output_type": "execute_result"
    }
   ],
   "source": [
    "percent_changes(south_LA_recoded,ending='Clean_Q4_2017',starting='Clean_Q1_2016')"
   ]
  },
  {
   "cell_type": "code",
   "execution_count": 388,
   "metadata": {},
   "outputs": [
    {
     "data": {
      "text/plain": [
       "'54.4% change'"
      ]
     },
     "execution_count": 388,
     "metadata": {},
     "output_type": "execute_result"
    }
   ],
   "source": [
    "percent_changes(all_no_0,ending='Clean_Q4_2017',starting='Clean_Q1_2016')"
   ]
  },
  {
   "cell_type": "code",
   "execution_count": 389,
   "metadata": {},
   "outputs": [
    {
     "data": {
      "text/plain": [
       "'69.6% change'"
      ]
     },
     "execution_count": 389,
     "metadata": {},
     "output_type": "execute_result"
    }
   ],
   "source": [
    "percent_changes(all_recoded,ending='Clean_Q4_2017',starting='Clean_Q1_2016')"
   ]
  },
  {
   "cell_type": "code",
   "execution_count": 216,
   "metadata": {},
   "outputs": [],
   "source": [
    "os.chdir(outputs)\n",
    "combined_quarters.to_csv('cleanstat_Q1Q42016_Q42017.csv')"
   ]
  }
 ],
 "metadata": {
  "kernelspec": {
   "display_name": "Python 3",
   "language": "python",
   "name": "python3"
  },
  "language_info": {
   "codemirror_mode": {
    "name": "ipython",
    "version": 3
   },
   "file_extension": ".py",
   "mimetype": "text/x-python",
   "name": "python",
   "nbconvert_exporter": "python",
   "pygments_lexer": "ipython3",
   "version": "3.6.6"
  }
 },
 "nbformat": 4,
 "nbformat_minor": 2
}
