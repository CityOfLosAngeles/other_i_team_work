{
 "cells": [
  {
   "cell_type": "code",
   "execution_count": 1,
   "metadata": {
    "collapsed": true
   },
   "outputs": [],
   "source": [
    "import os\n",
    "import z_function_list\n",
    "from functools import reduce"
   ]
  },
  {
   "cell_type": "code",
   "execution_count": 2,
   "metadata": {
    "collapsed": true
   },
   "outputs": [],
   "source": [
    "base_path,data,outputs = z_function_list.folder_setup()"
   ]
  },
  {
   "cell_type": "code",
   "execution_count": 3,
   "metadata": {
    "collapsed": true
   },
   "outputs": [],
   "source": [
    "os.chdir(data)"
   ]
  },
  {
   "cell_type": "code",
   "execution_count": 210,
   "metadata": {
    "collapsed": false
   },
   "outputs": [],
   "source": [
    "#pull in excel file\n",
    "cleanstat = pd.ExcelFile('clean_comparison.xlsx')\n",
    "#create dictionary of frames for each sheet\n",
    "d = {n:cleanstat.parse(n) for n in cleanstat.sheet_names}\n",
    "#merge into single DF\n",
    "combined_quarters = reduce(lambda x,y: pd.merge(x,y,on='SegmentID'),[d[sheet] for sheet in cleanstat.sheet_names])\n",
    "\n",
    "#replace columns names to make more specific\n",
    "combined_quarters.columns = combined_quarters.columns.str.replace('_x','_Q1_2016').str.replace('_y','_Q4_2016')\n",
    "column_replacement = {n:k for n,k in zip(combined_quarters.columns[-5:],[x+'_Q4_2017' for x  in combined_quarters.columns[-5:]])}\n",
    "combined_quarters = combined_quarters.rename(columns=column_replacement)\n",
    "\n",
    "#add in missing CD\n",
    "missing_cd_map = {k:v for k,v in pd.read_csv('clean_stat_missing_CD.csv')[['SegmentID','District']].values}"
   ]
  },
  {
   "cell_type": "code",
   "execution_count": 211,
   "metadata": {
    "collapsed": false
   },
   "outputs": [
    {
     "data": {
      "text/plain": [
       "Index(['OBJECTID_1_Q1_2016', 'FullName_Q1_2016', 'LAPD_Grid_Q1_2016',\n",
       "       'GlobalID_Q1_2016', 'SegmentID', 'xy', 'CD_Q1_2016',\n",
       "       'CS_RoundSc_Q1_2016', 'Miles_Q1_2016', 'OBJECTID_1_Q4_2016',\n",
       "       'FullName_Q4_2016', 'LAPD_Grid_Q4_2016', 'GlobalID_Q4_2016',\n",
       "       'CS_RoundSc_Q4_2016', 'CD_Q4_2016', 'SanDist', 'Miles_Q4_2016',\n",
       "       'OBJECTID_1_Q4_2017', 'FullName_Q4_2017', 'LAPD_Grid_Q4_2017',\n",
       "       'CS_RoundSc_Q4_2017', 'Miles_Q4_2017'],\n",
       "      dtype='object')"
      ]
     },
     "execution_count": 211,
     "metadata": {},
     "output_type": "execute_result"
    }
   ],
   "source": [
    "combined_quarters.columns"
   ]
  },
  {
   "cell_type": "code",
   "execution_count": 212,
   "metadata": {
    "collapsed": false
   },
   "outputs": [],
   "source": [
    "combined_quarters = combined_quarters.drop(['FullName_Q1_2016', 'LAPD_Grid_Q1_2016','CD_Q1_2016',\n",
    "                                            'GlobalID_Q1_2016','GlobalID_Q4_2016','Miles_Q1_2016',\n",
    "                                            'Miles_Q4_2017','FullName_Q4_2016','LAPD_Grid_Q4_2016',\n",
    "                                           'OBJECTID_1_Q1_2016', 'OBJECTID_1_Q4_2016',\n",
    "                                            'OBJECTID_1_Q4_2017'],axis=1)\n",
    "\n",
    "combined_quarters = combined_quarters.rename(columns={'Miles_Q4_2016':'Miles',\n",
    "                                                      'LAPD_Grid_Q4_2017':'LAPD_Grid',\n",
    "                                                     'CD_Q4_2016':'CD',\n",
    "                                                     'FullName_Q4_2017':'FullName'})\n",
    "\n",
    "combined_quarters = combined_quarters[['FullName','SegmentID','CD','CS_RoundSc_Q1_2016','CS_RoundSc_Q4_2016',\n",
    "                   'CS_RoundSc_Q4_2017','Miles','SanDist','LAPD_Grid']]\n",
    "\n",
    "\n",
    "#updating missing CDs\n",
    "combined_quarters.loc[combined_quarters['CD']==0,'CD'] = combined_quarters.loc[combined_quarters['CD']==0,'SegmentID'].map(missing_cd_map)\n",
    "\n",
    "#earlier version to verify true mileage differences\n",
    "#combined_quarters[['Miles_Q1_2016','Miles_Q4_2016','Miles_Q4_2017']] = combined_quarters[['Miles_Q1_2016','Miles_Q4_2016','Miles_Q4_2017']].round(decimals=5)\n",
    "\n",
    "street_mapping = {1:'Clean',2:'Somewhat Clean',3:'Not Clean',0:'Not Evaluated'}\n",
    "\n",
    "combined_quarters['Cat_Q1_2016'],combined_quarters['Cat_Q4_2016'],combined_quarters['Cat_Q4_2017']=\\\n",
    "combined_quarters['CS_RoundSc_Q1_2016'].map(street_mapping),\\\n",
    "combined_quarters['CS_RoundSc_Q4_2016'].map(street_mapping),\\\n",
    "combined_quarters['CS_RoundSc_Q4_2017'].map(street_mapping)"
   ]
  },
  {
   "cell_type": "code",
   "execution_count": 213,
   "metadata": {
    "collapsed": false
   },
   "outputs": [],
   "source": [
    "q1_2016 = combined_quarters.pivot_table('Miles',columns='Cat_Q1_2016',index='CD',aggfunc='sum')\n",
    "q4_2016 = combined_quarters.pivot_table('Miles',columns='Cat_Q4_2016',index='CD',aggfunc='sum')\n",
    "q4_2017 = combined_quarters.pivot_table('Miles',columns='Cat_Q4_2017',index='CD',aggfunc='sum')"
   ]
  },
  {
   "cell_type": "code",
   "execution_count": 201,
   "metadata": {
    "collapsed": false
   },
   "outputs": [
    {
     "data": {
      "text/html": [
       "<div>\n",
       "<style>\n",
       "    .dataframe thead tr:only-child th {\n",
       "        text-align: right;\n",
       "    }\n",
       "\n",
       "    .dataframe thead th {\n",
       "        text-align: left;\n",
       "    }\n",
       "\n",
       "    .dataframe tbody tr th {\n",
       "        vertical-align: top;\n",
       "    }\n",
       "</style>\n",
       "<table border=\"1\" class=\"dataframe\">\n",
       "  <thead>\n",
       "    <tr style=\"text-align: right;\">\n",
       "      <th>Cat_Q4_2017</th>\n",
       "      <th>Clean</th>\n",
       "      <th>Somewhat Clean</th>\n",
       "      <th>Not Clean</th>\n",
       "    </tr>\n",
       "    <tr>\n",
       "      <th>CD</th>\n",
       "      <th></th>\n",
       "      <th></th>\n",
       "      <th></th>\n",
       "    </tr>\n",
       "  </thead>\n",
       "  <tbody>\n",
       "    <tr>\n",
       "      <th>8</th>\n",
       "      <td>317.588071</td>\n",
       "      <td>152.066341</td>\n",
       "      <td>9.378174</td>\n",
       "    </tr>\n",
       "    <tr>\n",
       "      <th>9</th>\n",
       "      <td>238.716445</td>\n",
       "      <td>110.356725</td>\n",
       "      <td>15.378267</td>\n",
       "    </tr>\n",
       "    <tr>\n",
       "      <th>10</th>\n",
       "      <td>263.350688</td>\n",
       "      <td>101.977406</td>\n",
       "      <td>2.123125</td>\n",
       "    </tr>\n",
       "  </tbody>\n",
       "</table>\n",
       "</div>"
      ],
      "text/plain": [
       "Cat_Q4_2017       Clean  Somewhat Clean  Not Clean\n",
       "CD                                                \n",
       "8            317.588071      152.066341   9.378174\n",
       "9            238.716445      110.356725  15.378267\n",
       "10           263.350688      101.977406   2.123125"
      ]
     },
     "execution_count": 201,
     "metadata": {},
     "output_type": "execute_result"
    }
   ],
   "source": [
    "q4_2017.loc[[8,9,10]][['Clean','Somewhat Clean','Not Clean']]"
   ]
  },
  {
   "cell_type": "code",
   "execution_count": 216,
   "metadata": {
    "collapsed": false
   },
   "outputs": [],
   "source": [
    "os.chdir(outputs)\n",
    "combined_quarters.to_csv('cleanstat_Q1Q42016_Q42017.csv')"
   ]
  }
 ],
 "metadata": {
  "kernelspec": {
   "display_name": "Python 3",
   "language": "python",
   "name": "python3"
  },
  "language_info": {
   "codemirror_mode": {
    "name": "ipython",
    "version": 3
   },
   "file_extension": ".py",
   "mimetype": "text/x-python",
   "name": "python",
   "nbconvert_exporter": "python",
   "pygments_lexer": "ipython3",
   "version": "3.6.0"
  }
 },
 "nbformat": 4,
 "nbformat_minor": 2
}
