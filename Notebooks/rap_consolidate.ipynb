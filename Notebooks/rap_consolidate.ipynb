{
 "cells": [
  {
   "cell_type": "code",
   "execution_count": 18,
   "metadata": {},
   "outputs": [
    {
     "name": "stderr",
     "output_type": "stream",
     "text": [
      "C:\\Users\\373659\\AppData\\Local\\Continuum\\Anaconda3\\lib\\site-packages\\fuzzywuzzy\\fuzz.py:35: UserWarning: Using slow pure-python SequenceMatcher. Install python-Levenshtein to remove this warning\n",
      "  warnings.warn('Using slow pure-python SequenceMatcher. Install python-Levenshtein to remove this warning')\n"
     ]
    }
   ],
   "source": [
    "from fuzzywuzzy import fuzz, process\n",
    "import os"
   ]
  },
  {
   "cell_type": "code",
   "execution_count": 6,
   "metadata": {},
   "outputs": [],
   "source": [
    "strike_folder = os.path.normpath('L:\\BUDGET\\I-Team\\Data Library\\LAUSD_strike')\n",
    "os.chdir(strike_folder)"
   ]
  },
  {
   "cell_type": "code",
   "execution_count": 435,
   "metadata": {},
   "outputs": [],
   "source": [
    "#load sheet\n",
    "main_facilities_sheet = pd.read_excel('rap_facilities_libraries.xlsm')\n",
    "\n",
    "#load alternate sheet with more data\n",
    "facility_polygon = pd.read_excel('Recreation_and_Parks_polygon_file.xlsx')\n",
    "\n",
    "#remap RAP categories to sort and drop duplicates\n",
    "main_facilities_sheet['Priority Category'] = main_facilities_sheet['RAP Category'].map({'Recreational Centers':4,\n",
    "                                           'Sport Facilities':3,\n",
    "                                           'Parks':2,'Aquatics':1})\n",
    "                                                                                      \n",
    "\n",
    "#look for whether \"Rec Center\" is in the title and create column based on this\n",
    "main_facilities_sheet['Rec_Center'] = np.where(main_facilities_sheet['Name'].str.contains('Recreation Center'),1,0)\n",
    "\n",
    "#strip out street suffixes\n",
    "\n",
    "street_drop = ['Ave', 'Street', 'St', 'Blvd', 'Dr', 'Road', 'Place', 'Pl', 'Rd',\n",
    "       'Avenue', 'Drive', 'Way',  'Walk']\n",
    "\n",
    "main_facilities_sheet['Street_No_Suff'] = np.where(main_facilities_sheet['Street'].str.contains('|'.join(street_drop)),main_facilities_sheet['Street'].str.strip('|'.join(street_drop)),\n",
    "         main_facilities_sheet['Street'])\n",
    "\n",
    "main_facilities_sheet['Street_No_Suff'] = main_facilities_sheet['Street_No_Suff'].str.strip()\n",
    "\n",
    "main_facilities_sheet = main_facilities_sheet.sort_values(by=['Street_No_Suff','Rec_Center','Priority Category'],ascending=False).drop_duplicates(subset='Street_No_Suff')\n",
    "main_facilities_sheet = main_facilities_sheet.reset_index(drop=True)"
   ]
  },
  {
   "cell_type": "code",
   "execution_count": 429,
   "metadata": {},
   "outputs": [],
   "source": [
    "#possible names for matching\n",
    "name_bucket = facility_polygon['Name'].values"
   ]
  },
  {
   "cell_type": "code",
   "execution_count": 437,
   "metadata": {},
   "outputs": [],
   "source": [
    "#create match\n",
    "fuzzy_match_rap = main_facilities_sheet['Name'].apply(lambda x: process.extractOne(x,name_bucket))\n",
    "\n",
    "#convert to DF\n",
    "fuzzy_match_rap = pd.DataFrame(list(fuzzy_match_rap.values))\n",
    "\n",
    "#combine with main set\n",
    "main_facilities_sheet = pd.merge(main_facilities_sheet,fuzzy_match_rap,left_index=True,right_index=True).rename(columns={0:'Fuzzy Facility',1:'Fuzzy Score'})\n",
    "\n"
   ]
  },
  {
   "cell_type": "code",
   "execution_count": 492,
   "metadata": {},
   "outputs": [],
   "source": [
    "combined_facilities = pd.merge(main_facilities_sheet,facility_polygon,left_on='Fuzzy Facility',right_on='Name',how='left',suffixes=('','_x'))\n",
    "\n",
    "#remove new features for score below 90\n",
    "combined_facilities.loc[combined_facilities['Fuzzy Score']<90, \n",
    "                        ['Park_ID','CD_Real','Address','Region','Park_Class','ACRES','Fuzzy Facility']] = nan\n",
    "combined_facilities = combined_facilities.rename(columns={'Fuzzy Facility':'Name_Alternate'})\n",
    "\n",
    "combined_facilities = combined_facilities.drop(['Street_No_Suff','OBJECTID','Name_x','Name.1','CD_NEW','Fuzzy Score','TOOLTIP','Area_Acres'],axis=1)\n",
    "\n",
    "cols = list(combined_facilities.columns)\n",
    "for item in ['Name','Name_Alternate']:\n",
    "    cols.remove(item)\n",
    "combined_facilities = combined_facilities[['Name','Name_Alternate']+cols]"
   ]
  },
  {
   "cell_type": "code",
   "execution_count": 496,
   "metadata": {},
   "outputs": [],
   "source": [
    "combined_facilities.to_csv('RAP_facilities.csv')"
   ]
  }
 ],
 "metadata": {
  "kernelspec": {
   "display_name": "Python 3",
   "language": "python",
   "name": "python3"
  },
  "language_info": {
   "codemirror_mode": {
    "name": "ipython",
    "version": 3
   },
   "file_extension": ".py",
   "mimetype": "text/x-python",
   "name": "python",
   "nbconvert_exporter": "python",
   "pygments_lexer": "ipython3",
   "version": "3.6.6"
  }
 },
 "nbformat": 4,
 "nbformat_minor": 2
}
